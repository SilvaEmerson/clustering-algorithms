{
  "nbformat": 4,
  "nbformat_minor": 0,
  "metadata": {
    "colab": {
      "name": "ClusteringComparative.ipynb",
      "version": "0.3.2",
      "provenance": [],
      "collapsed_sections": [
        "4iZbFeC8XP0c"
      ],
      "toc_visible": true
    },
    "kernelspec": {
      "display_name": "Python 3",
      "language": "python",
      "name": "python3"
    },
    "accelerator": "GPU"
  },
  "cells": [
    {
      "metadata": {
        "id": "wZKXo6utXPxz",
        "colab_type": "code",
        "outputId": "8814e552-faf4-4908-dac0-e0e1ac6c051c",
        "colab": {
          "base_uri": "https://localhost:8080/",
          "height": 50
        }
      },
      "cell_type": "code",
      "source": [
        "te! pip install minisom rx"
      ],
      "execution_count": 0,
      "outputs": [
        {
          "output_type": "stream",
          "text": [
            "Requirement already satisfied: minisom in /usr/local/lib/python3.6/dist-packages (2.1.5)\n",
            "Requirement already satisfied: rx in /usr/local/lib/python3.6/dist-packages (1.6.1)\n"
          ],
          "name": "stdout"
        }
      ]
    },
    {
      "metadata": {
        "colab_type": "code",
        "id": "q3BLBrtr0qxS",
        "scrolled": false,
        "colab": {}
      },
      "cell_type": "code",
      "source": [
        "from operator import methodcaller\n",
        "from functools import partial\n",
        "\n",
        "import pandas as pd\n",
        "import numpy as np\n",
        "import seaborn as sns\n",
        "import matplotlib.pyplot as plt\n",
        "from mpl_toolkits.mplot3d import Axes3D\n",
        "from sklearn.cluster import KMeans, AgglomerativeClustering\n",
        "from sklearn import metrics\n",
        "from minisom import MiniSom\n",
        "from rx import Observable\n",
        "from matplotlib.gridspec import GridSpec"
      ],
      "execution_count": 0,
      "outputs": []
    },
    {
      "metadata": {
        "colab_type": "code",
        "id": "tCwsAVGN0qxZ",
        "outputId": "8b4bc01d-2bf0-4bb8-dadc-5ee804e6d5fd",
        "colab": {
          "base_uri": "https://localhost:8080/",
          "height": 212
        }
      },
      "cell_type": "code",
      "source": [
        "# dataset overview\n",
        "\n",
        "DATA_PATH = './cardio_train.csv' \n",
        "df = pd.read_csv(DATA_PATH, sep=';')\n",
        "print(df.shape)\n",
        "df.head()"
      ],
      "execution_count": 0,
      "outputs": [
        {
          "output_type": "stream",
          "text": [
            "(70000, 13)\n"
          ],
          "name": "stdout"
        },
        {
          "output_type": "execute_result",
          "data": {
            "text/html": [
              "<div>\n",
              "<style scoped>\n",
              "    .dataframe tbody tr th:only-of-type {\n",
              "        vertical-align: middle;\n",
              "    }\n",
              "\n",
              "    .dataframe tbody tr th {\n",
              "        vertical-align: top;\n",
              "    }\n",
              "\n",
              "    .dataframe thead th {\n",
              "        text-align: right;\n",
              "    }\n",
              "</style>\n",
              "<table border=\"1\" class=\"dataframe\">\n",
              "  <thead>\n",
              "    <tr style=\"text-align: right;\">\n",
              "      <th></th>\n",
              "      <th>id</th>\n",
              "      <th>age</th>\n",
              "      <th>gender</th>\n",
              "      <th>height</th>\n",
              "      <th>weight</th>\n",
              "      <th>ap_hi</th>\n",
              "      <th>ap_lo</th>\n",
              "      <th>cholesterol</th>\n",
              "      <th>gluc</th>\n",
              "      <th>smoke</th>\n",
              "      <th>alco</th>\n",
              "      <th>active</th>\n",
              "      <th>cardio</th>\n",
              "    </tr>\n",
              "  </thead>\n",
              "  <tbody>\n",
              "    <tr>\n",
              "      <th>0</th>\n",
              "      <td>0</td>\n",
              "      <td>18393</td>\n",
              "      <td>2</td>\n",
              "      <td>168</td>\n",
              "      <td>62.0</td>\n",
              "      <td>110</td>\n",
              "      <td>80</td>\n",
              "      <td>1</td>\n",
              "      <td>1</td>\n",
              "      <td>0</td>\n",
              "      <td>0</td>\n",
              "      <td>1</td>\n",
              "      <td>0</td>\n",
              "    </tr>\n",
              "    <tr>\n",
              "      <th>1</th>\n",
              "      <td>1</td>\n",
              "      <td>20228</td>\n",
              "      <td>1</td>\n",
              "      <td>156</td>\n",
              "      <td>85.0</td>\n",
              "      <td>140</td>\n",
              "      <td>90</td>\n",
              "      <td>3</td>\n",
              "      <td>1</td>\n",
              "      <td>0</td>\n",
              "      <td>0</td>\n",
              "      <td>1</td>\n",
              "      <td>1</td>\n",
              "    </tr>\n",
              "    <tr>\n",
              "      <th>2</th>\n",
              "      <td>2</td>\n",
              "      <td>18857</td>\n",
              "      <td>1</td>\n",
              "      <td>165</td>\n",
              "      <td>64.0</td>\n",
              "      <td>130</td>\n",
              "      <td>70</td>\n",
              "      <td>3</td>\n",
              "      <td>1</td>\n",
              "      <td>0</td>\n",
              "      <td>0</td>\n",
              "      <td>0</td>\n",
              "      <td>1</td>\n",
              "    </tr>\n",
              "    <tr>\n",
              "      <th>3</th>\n",
              "      <td>3</td>\n",
              "      <td>17623</td>\n",
              "      <td>2</td>\n",
              "      <td>169</td>\n",
              "      <td>82.0</td>\n",
              "      <td>150</td>\n",
              "      <td>100</td>\n",
              "      <td>1</td>\n",
              "      <td>1</td>\n",
              "      <td>0</td>\n",
              "      <td>0</td>\n",
              "      <td>1</td>\n",
              "      <td>1</td>\n",
              "    </tr>\n",
              "    <tr>\n",
              "      <th>4</th>\n",
              "      <td>4</td>\n",
              "      <td>17474</td>\n",
              "      <td>1</td>\n",
              "      <td>156</td>\n",
              "      <td>56.0</td>\n",
              "      <td>100</td>\n",
              "      <td>60</td>\n",
              "      <td>1</td>\n",
              "      <td>1</td>\n",
              "      <td>0</td>\n",
              "      <td>0</td>\n",
              "      <td>0</td>\n",
              "      <td>0</td>\n",
              "    </tr>\n",
              "  </tbody>\n",
              "</table>\n",
              "</div>"
            ],
            "text/plain": [
              "   id    age  gender  height  weight  ap_hi  ap_lo  cholesterol  gluc  smoke  \\\n",
              "0   0  18393       2     168    62.0    110     80            1     1      0   \n",
              "1   1  20228       1     156    85.0    140     90            3     1      0   \n",
              "2   2  18857       1     165    64.0    130     70            3     1      0   \n",
              "3   3  17623       2     169    82.0    150    100            1     1      0   \n",
              "4   4  17474       1     156    56.0    100     60            1     1      0   \n",
              "\n",
              "   alco  active  cardio  \n",
              "0     0       1       0  \n",
              "1     0       1       1  \n",
              "2     0       0       1  \n",
              "3     0       1       1  \n",
              "4     0       0       0  "
            ]
          },
          "metadata": {
            "tags": []
          },
          "execution_count": 8
        }
      ]
    },
    {
      "metadata": {
        "colab_type": "text",
        "id": "Cex1ORG90qxi"
      },
      "cell_type": "markdown",
      "source": [
        "# Data description\n",
        "\n",
        "- age: in days\n",
        "- gender:\n",
        " - 1: women\n",
        " - 2: men\n",
        "- height: in cm\n",
        "- weight: in kg\n",
        "- ap_hi: Systolic blood pressure\n",
        "- ap_lo: Diastolic blood pressure\n",
        "- cholesterol:\n",
        " - 1: normal\n",
        " - 2: above normal\n",
        " - 3: well above normal\n",
        "- gluc:\n",
        " - 1: normal\n",
        " - 2: above normal\n",
        " - 3: well above normal\n",
        "- smoke: binary feature\n",
        "- alco: binary feature\n",
        "- active: binary feature\n",
        "- cardio: target feature\n"
      ]
    },
    {
      "metadata": {
        "colab_type": "code",
        "id": "6BvC4HYQ0qxk",
        "outputId": "0ff9d158-afbe-4116-d905-38b2ead52e1a",
        "colab": {
          "base_uri": "https://localhost:8080/",
          "height": 252
        }
      },
      "cell_type": "code",
      "source": [
        "df.dtypes"
      ],
      "execution_count": 0,
      "outputs": [
        {
          "output_type": "execute_result",
          "data": {
            "text/plain": [
              "id               int64\n",
              "age              int64\n",
              "gender           int64\n",
              "height           int64\n",
              "weight         float64\n",
              "ap_hi            int64\n",
              "ap_lo            int64\n",
              "cholesterol      int64\n",
              "gluc             int64\n",
              "smoke            int64\n",
              "alco             int64\n",
              "active           int64\n",
              "cardio           int64\n",
              "dtype: object"
            ]
          },
          "metadata": {
            "tags": []
          },
          "execution_count": 9
        }
      ]
    },
    {
      "metadata": {
        "colab_type": "code",
        "id": "7-5OYnLo0qxq",
        "colab": {}
      },
      "cell_type": "code",
      "source": [
        "df.drop(['id'], axis=1, inplace=True)"
      ],
      "execution_count": 0,
      "outputs": []
    },
    {
      "metadata": {
        "colab_type": "code",
        "id": "vLbQmKVn0qxv",
        "outputId": "86b62ac8-f42d-47d0-82fa-2fdeb30ab158",
        "colab": {
          "base_uri": "https://localhost:8080/",
          "height": 235
        }
      },
      "cell_type": "code",
      "source": [
        "sum(df.isnull().sum(), df.isna().sum())"
      ],
      "execution_count": 0,
      "outputs": [
        {
          "output_type": "execute_result",
          "data": {
            "text/plain": [
              "age            0\n",
              "gender         0\n",
              "height         0\n",
              "weight         0\n",
              "ap_hi          0\n",
              "ap_lo          0\n",
              "cholesterol    0\n",
              "gluc           0\n",
              "smoke          0\n",
              "alco           0\n",
              "active         0\n",
              "cardio         0\n",
              "dtype: int64"
            ]
          },
          "metadata": {
            "tags": []
          },
          "execution_count": 11
        }
      ]
    },
    {
      "metadata": {
        "id": "b9nPNRTKOWH3",
        "colab_type": "code",
        "colab": {}
      },
      "cell_type": "code",
      "source": [
        "df = df.dropna()"
      ],
      "execution_count": 0,
      "outputs": []
    },
    {
      "metadata": {
        "id": "QXMZqRZiOnMe",
        "colab_type": "code",
        "colab": {}
      },
      "cell_type": "code",
      "source": [
        "Y = df['cardio'].astype('int8')\n",
        "df.drop('cardio', axis=1, inplace=True)"
      ],
      "execution_count": 0,
      "outputs": []
    },
    {
      "metadata": {
        "colab_type": "code",
        "id": "2w2GlDNn0qx0",
        "outputId": "75cb6167-ac80-421a-d66f-38f11af8994f",
        "colab": {
          "base_uri": "https://localhost:8080/",
          "height": 304
        }
      },
      "cell_type": "code",
      "source": [
        "df.describe()"
      ],
      "execution_count": 0,
      "outputs": [
        {
          "output_type": "execute_result",
          "data": {
            "text/html": [
              "<div>\n",
              "<style scoped>\n",
              "    .dataframe tbody tr th:only-of-type {\n",
              "        vertical-align: middle;\n",
              "    }\n",
              "\n",
              "    .dataframe tbody tr th {\n",
              "        vertical-align: top;\n",
              "    }\n",
              "\n",
              "    .dataframe thead th {\n",
              "        text-align: right;\n",
              "    }\n",
              "</style>\n",
              "<table border=\"1\" class=\"dataframe\">\n",
              "  <thead>\n",
              "    <tr style=\"text-align: right;\">\n",
              "      <th></th>\n",
              "      <th>age</th>\n",
              "      <th>gender</th>\n",
              "      <th>height</th>\n",
              "      <th>weight</th>\n",
              "      <th>ap_hi</th>\n",
              "      <th>ap_lo</th>\n",
              "      <th>cholesterol</th>\n",
              "      <th>gluc</th>\n",
              "      <th>smoke</th>\n",
              "      <th>alco</th>\n",
              "      <th>active</th>\n",
              "    </tr>\n",
              "  </thead>\n",
              "  <tbody>\n",
              "    <tr>\n",
              "      <th>count</th>\n",
              "      <td>70000.000000</td>\n",
              "      <td>70000.000000</td>\n",
              "      <td>70000.000000</td>\n",
              "      <td>70000.000000</td>\n",
              "      <td>70000.000000</td>\n",
              "      <td>70000.000000</td>\n",
              "      <td>70000.000000</td>\n",
              "      <td>70000.000000</td>\n",
              "      <td>70000.000000</td>\n",
              "      <td>70000.000000</td>\n",
              "      <td>70000.000000</td>\n",
              "    </tr>\n",
              "    <tr>\n",
              "      <th>mean</th>\n",
              "      <td>19468.865814</td>\n",
              "      <td>1.349571</td>\n",
              "      <td>164.359229</td>\n",
              "      <td>74.205690</td>\n",
              "      <td>128.817286</td>\n",
              "      <td>96.630414</td>\n",
              "      <td>1.366871</td>\n",
              "      <td>1.226457</td>\n",
              "      <td>0.088129</td>\n",
              "      <td>0.053771</td>\n",
              "      <td>0.803729</td>\n",
              "    </tr>\n",
              "    <tr>\n",
              "      <th>std</th>\n",
              "      <td>2467.251667</td>\n",
              "      <td>0.476838</td>\n",
              "      <td>8.210126</td>\n",
              "      <td>14.395757</td>\n",
              "      <td>154.011419</td>\n",
              "      <td>188.472530</td>\n",
              "      <td>0.680250</td>\n",
              "      <td>0.572270</td>\n",
              "      <td>0.283484</td>\n",
              "      <td>0.225568</td>\n",
              "      <td>0.397179</td>\n",
              "    </tr>\n",
              "    <tr>\n",
              "      <th>min</th>\n",
              "      <td>10798.000000</td>\n",
              "      <td>1.000000</td>\n",
              "      <td>55.000000</td>\n",
              "      <td>10.000000</td>\n",
              "      <td>-150.000000</td>\n",
              "      <td>-70.000000</td>\n",
              "      <td>1.000000</td>\n",
              "      <td>1.000000</td>\n",
              "      <td>0.000000</td>\n",
              "      <td>0.000000</td>\n",
              "      <td>0.000000</td>\n",
              "    </tr>\n",
              "    <tr>\n",
              "      <th>25%</th>\n",
              "      <td>17664.000000</td>\n",
              "      <td>1.000000</td>\n",
              "      <td>159.000000</td>\n",
              "      <td>65.000000</td>\n",
              "      <td>120.000000</td>\n",
              "      <td>80.000000</td>\n",
              "      <td>1.000000</td>\n",
              "      <td>1.000000</td>\n",
              "      <td>0.000000</td>\n",
              "      <td>0.000000</td>\n",
              "      <td>1.000000</td>\n",
              "    </tr>\n",
              "    <tr>\n",
              "      <th>50%</th>\n",
              "      <td>19703.000000</td>\n",
              "      <td>1.000000</td>\n",
              "      <td>165.000000</td>\n",
              "      <td>72.000000</td>\n",
              "      <td>120.000000</td>\n",
              "      <td>80.000000</td>\n",
              "      <td>1.000000</td>\n",
              "      <td>1.000000</td>\n",
              "      <td>0.000000</td>\n",
              "      <td>0.000000</td>\n",
              "      <td>1.000000</td>\n",
              "    </tr>\n",
              "    <tr>\n",
              "      <th>75%</th>\n",
              "      <td>21327.000000</td>\n",
              "      <td>2.000000</td>\n",
              "      <td>170.000000</td>\n",
              "      <td>82.000000</td>\n",
              "      <td>140.000000</td>\n",
              "      <td>90.000000</td>\n",
              "      <td>2.000000</td>\n",
              "      <td>1.000000</td>\n",
              "      <td>0.000000</td>\n",
              "      <td>0.000000</td>\n",
              "      <td>1.000000</td>\n",
              "    </tr>\n",
              "    <tr>\n",
              "      <th>max</th>\n",
              "      <td>23713.000000</td>\n",
              "      <td>2.000000</td>\n",
              "      <td>250.000000</td>\n",
              "      <td>200.000000</td>\n",
              "      <td>16020.000000</td>\n",
              "      <td>11000.000000</td>\n",
              "      <td>3.000000</td>\n",
              "      <td>3.000000</td>\n",
              "      <td>1.000000</td>\n",
              "      <td>1.000000</td>\n",
              "      <td>1.000000</td>\n",
              "    </tr>\n",
              "  </tbody>\n",
              "</table>\n",
              "</div>"
            ],
            "text/plain": [
              "                age        gender        height        weight         ap_hi  \\\n",
              "count  70000.000000  70000.000000  70000.000000  70000.000000  70000.000000   \n",
              "mean   19468.865814      1.349571    164.359229     74.205690    128.817286   \n",
              "std     2467.251667      0.476838      8.210126     14.395757    154.011419   \n",
              "min    10798.000000      1.000000     55.000000     10.000000   -150.000000   \n",
              "25%    17664.000000      1.000000    159.000000     65.000000    120.000000   \n",
              "50%    19703.000000      1.000000    165.000000     72.000000    120.000000   \n",
              "75%    21327.000000      2.000000    170.000000     82.000000    140.000000   \n",
              "max    23713.000000      2.000000    250.000000    200.000000  16020.000000   \n",
              "\n",
              "              ap_lo   cholesterol          gluc         smoke          alco  \\\n",
              "count  70000.000000  70000.000000  70000.000000  70000.000000  70000.000000   \n",
              "mean      96.630414      1.366871      1.226457      0.088129      0.053771   \n",
              "std      188.472530      0.680250      0.572270      0.283484      0.225568   \n",
              "min      -70.000000      1.000000      1.000000      0.000000      0.000000   \n",
              "25%       80.000000      1.000000      1.000000      0.000000      0.000000   \n",
              "50%       80.000000      1.000000      1.000000      0.000000      0.000000   \n",
              "75%       90.000000      2.000000      1.000000      0.000000      0.000000   \n",
              "max    11000.000000      3.000000      3.000000      1.000000      1.000000   \n",
              "\n",
              "             active  \n",
              "count  70000.000000  \n",
              "mean       0.803729  \n",
              "std        0.397179  \n",
              "min        0.000000  \n",
              "25%        1.000000  \n",
              "50%        1.000000  \n",
              "75%        1.000000  \n",
              "max        1.000000  "
            ]
          },
          "metadata": {
            "tags": []
          },
          "execution_count": 14
        }
      ]
    },
    {
      "metadata": {
        "id": "wQ-XeoBOXPz7",
        "colab_type": "text"
      },
      "cell_type": "markdown",
      "source": [
        "## Rescaling"
      ]
    },
    {
      "metadata": {
        "colab_type": "code",
        "id": "Co8fZtuq0qx5",
        "scrolled": false,
        "colab": {}
      },
      "cell_type": "code",
      "source": [
        "df = df.apply(lambda col: col / col.max())"
      ],
      "execution_count": 0,
      "outputs": []
    },
    {
      "metadata": {
        "colab_type": "code",
        "id": "EETd6Wzi0qx_",
        "outputId": "c9933970-5428-420c-e8ca-4ece93d69b09",
        "colab": {
          "base_uri": "https://localhost:8080/",
          "height": 304
        }
      },
      "cell_type": "code",
      "source": [
        "df.describe()"
      ],
      "execution_count": 0,
      "outputs": [
        {
          "output_type": "execute_result",
          "data": {
            "text/html": [
              "<div>\n",
              "<style scoped>\n",
              "    .dataframe tbody tr th:only-of-type {\n",
              "        vertical-align: middle;\n",
              "    }\n",
              "\n",
              "    .dataframe tbody tr th {\n",
              "        vertical-align: top;\n",
              "    }\n",
              "\n",
              "    .dataframe thead th {\n",
              "        text-align: right;\n",
              "    }\n",
              "</style>\n",
              "<table border=\"1\" class=\"dataframe\">\n",
              "  <thead>\n",
              "    <tr style=\"text-align: right;\">\n",
              "      <th></th>\n",
              "      <th>age</th>\n",
              "      <th>gender</th>\n",
              "      <th>height</th>\n",
              "      <th>weight</th>\n",
              "      <th>ap_hi</th>\n",
              "      <th>ap_lo</th>\n",
              "      <th>cholesterol</th>\n",
              "      <th>gluc</th>\n",
              "      <th>smoke</th>\n",
              "      <th>alco</th>\n",
              "      <th>active</th>\n",
              "    </tr>\n",
              "  </thead>\n",
              "  <tbody>\n",
              "    <tr>\n",
              "      <th>count</th>\n",
              "      <td>70000.000000</td>\n",
              "      <td>70000.000000</td>\n",
              "      <td>70000.000000</td>\n",
              "      <td>70000.000000</td>\n",
              "      <td>70000.000000</td>\n",
              "      <td>70000.000000</td>\n",
              "      <td>70000.000000</td>\n",
              "      <td>70000.000000</td>\n",
              "      <td>70000.000000</td>\n",
              "      <td>70000.000000</td>\n",
              "      <td>70000.000000</td>\n",
              "    </tr>\n",
              "    <tr>\n",
              "      <th>mean</th>\n",
              "      <td>0.821021</td>\n",
              "      <td>0.674786</td>\n",
              "      <td>0.657437</td>\n",
              "      <td>0.371028</td>\n",
              "      <td>0.008041</td>\n",
              "      <td>0.008785</td>\n",
              "      <td>0.455624</td>\n",
              "      <td>0.408819</td>\n",
              "      <td>0.088129</td>\n",
              "      <td>0.053771</td>\n",
              "      <td>0.803729</td>\n",
              "    </tr>\n",
              "    <tr>\n",
              "      <th>std</th>\n",
              "      <td>0.104046</td>\n",
              "      <td>0.238419</td>\n",
              "      <td>0.032841</td>\n",
              "      <td>0.071979</td>\n",
              "      <td>0.009614</td>\n",
              "      <td>0.017134</td>\n",
              "      <td>0.226750</td>\n",
              "      <td>0.190757</td>\n",
              "      <td>0.283484</td>\n",
              "      <td>0.225568</td>\n",
              "      <td>0.397179</td>\n",
              "    </tr>\n",
              "    <tr>\n",
              "      <th>min</th>\n",
              "      <td>0.455362</td>\n",
              "      <td>0.500000</td>\n",
              "      <td>0.220000</td>\n",
              "      <td>0.050000</td>\n",
              "      <td>-0.009363</td>\n",
              "      <td>-0.006364</td>\n",
              "      <td>0.333333</td>\n",
              "      <td>0.333333</td>\n",
              "      <td>0.000000</td>\n",
              "      <td>0.000000</td>\n",
              "      <td>0.000000</td>\n",
              "    </tr>\n",
              "    <tr>\n",
              "      <th>25%</th>\n",
              "      <td>0.744908</td>\n",
              "      <td>0.500000</td>\n",
              "      <td>0.636000</td>\n",
              "      <td>0.325000</td>\n",
              "      <td>0.007491</td>\n",
              "      <td>0.007273</td>\n",
              "      <td>0.333333</td>\n",
              "      <td>0.333333</td>\n",
              "      <td>0.000000</td>\n",
              "      <td>0.000000</td>\n",
              "      <td>1.000000</td>\n",
              "    </tr>\n",
              "    <tr>\n",
              "      <th>50%</th>\n",
              "      <td>0.830894</td>\n",
              "      <td>0.500000</td>\n",
              "      <td>0.660000</td>\n",
              "      <td>0.360000</td>\n",
              "      <td>0.007491</td>\n",
              "      <td>0.007273</td>\n",
              "      <td>0.333333</td>\n",
              "      <td>0.333333</td>\n",
              "      <td>0.000000</td>\n",
              "      <td>0.000000</td>\n",
              "      <td>1.000000</td>\n",
              "    </tr>\n",
              "    <tr>\n",
              "      <th>75%</th>\n",
              "      <td>0.899380</td>\n",
              "      <td>1.000000</td>\n",
              "      <td>0.680000</td>\n",
              "      <td>0.410000</td>\n",
              "      <td>0.008739</td>\n",
              "      <td>0.008182</td>\n",
              "      <td>0.666667</td>\n",
              "      <td>0.333333</td>\n",
              "      <td>0.000000</td>\n",
              "      <td>0.000000</td>\n",
              "      <td>1.000000</td>\n",
              "    </tr>\n",
              "    <tr>\n",
              "      <th>max</th>\n",
              "      <td>1.000000</td>\n",
              "      <td>1.000000</td>\n",
              "      <td>1.000000</td>\n",
              "      <td>1.000000</td>\n",
              "      <td>1.000000</td>\n",
              "      <td>1.000000</td>\n",
              "      <td>1.000000</td>\n",
              "      <td>1.000000</td>\n",
              "      <td>1.000000</td>\n",
              "      <td>1.000000</td>\n",
              "      <td>1.000000</td>\n",
              "    </tr>\n",
              "  </tbody>\n",
              "</table>\n",
              "</div>"
            ],
            "text/plain": [
              "                age        gender        height        weight         ap_hi  \\\n",
              "count  70000.000000  70000.000000  70000.000000  70000.000000  70000.000000   \n",
              "mean       0.821021      0.674786      0.657437      0.371028      0.008041   \n",
              "std        0.104046      0.238419      0.032841      0.071979      0.009614   \n",
              "min        0.455362      0.500000      0.220000      0.050000     -0.009363   \n",
              "25%        0.744908      0.500000      0.636000      0.325000      0.007491   \n",
              "50%        0.830894      0.500000      0.660000      0.360000      0.007491   \n",
              "75%        0.899380      1.000000      0.680000      0.410000      0.008739   \n",
              "max        1.000000      1.000000      1.000000      1.000000      1.000000   \n",
              "\n",
              "              ap_lo   cholesterol          gluc         smoke          alco  \\\n",
              "count  70000.000000  70000.000000  70000.000000  70000.000000  70000.000000   \n",
              "mean       0.008785      0.455624      0.408819      0.088129      0.053771   \n",
              "std        0.017134      0.226750      0.190757      0.283484      0.225568   \n",
              "min       -0.006364      0.333333      0.333333      0.000000      0.000000   \n",
              "25%        0.007273      0.333333      0.333333      0.000000      0.000000   \n",
              "50%        0.007273      0.333333      0.333333      0.000000      0.000000   \n",
              "75%        0.008182      0.666667      0.333333      0.000000      0.000000   \n",
              "max        1.000000      1.000000      1.000000      1.000000      1.000000   \n",
              "\n",
              "             active  \n",
              "count  70000.000000  \n",
              "mean       0.803729  \n",
              "std        0.397179  \n",
              "min        0.000000  \n",
              "25%        1.000000  \n",
              "50%        1.000000  \n",
              "75%        1.000000  \n",
              "max        1.000000  "
            ]
          },
          "metadata": {
            "tags": []
          },
          "execution_count": 16
        }
      ]
    },
    {
      "metadata": {
        "id": "4iZbFeC8XP0c",
        "colab_type": "text"
      },
      "cell_type": "markdown",
      "source": [
        "# K-Means"
      ]
    },
    {
      "metadata": {
        "id": "uS53lTExXP0j",
        "colab_type": "code",
        "colab": {}
      },
      "cell_type": "code",
      "source": [
        "kmeans = KMeans(n_clusters=2, random_state=42)\n",
        "\n",
        "y_pred = kmeans.fit_predict(df[['ap_hi', 'ap_lo']])\n",
        "\n",
        "df['y_pred'] = y_pred"
      ],
      "execution_count": 0,
      "outputs": []
    },
    {
      "metadata": {
        "id": "2gwxmNvGSVSj",
        "colab_type": "code",
        "colab": {}
      },
      "cell_type": "code",
      "source": [
        "sick = df[df['y_pred'] == 1]\n",
        "no_sick = df[df['y_pred'] == 0]"
      ],
      "execution_count": 0,
      "outputs": []
    },
    {
      "metadata": {
        "id": "C15W4p3xXP0q",
        "colab_type": "code",
        "outputId": "6394cd1d-91cf-4a53-eec7-258f116168a8",
        "colab": {
          "base_uri": "https://localhost:8080/",
          "height": 364
        }
      },
      "cell_type": "code",
      "source": [
        "plt.scatter(sick['ap_hi'], sick['ap_lo'], label='sick', c='r', cmap=plt.cm.viridis)\n",
        "plt.scatter(no_sick['ap_hi'], no_sick['ap_lo'], label='no sick', c='b', cmap=plt.cm.viridis)\n",
        "plt.legend()"
      ],
      "execution_count": 0,
      "outputs": [
        {
          "output_type": "execute_result",
          "data": {
            "text/plain": [
              "<matplotlib.legend.Legend at 0x7f6144776ba8>"
            ]
          },
          "metadata": {
            "tags": []
          },
          "execution_count": 65
        },
        {
          "output_type": "display_data",
          "data": {
            "image/png": "[encoded data removed]",
            "text/plain": [
              "<Figure size 576x396 with 1 Axes>"
            ]
          },
          "metadata": {
            "tags": []
          }
        }
      ]
    },
    {
      "metadata": {
        "id": "okOZRdCXSMS3",
        "colab_type": "code",
        "outputId": "83f46fa6-432d-410e-e53d-883865692eba",
        "colab": {
          "base_uri": "https://localhost:8080/",
          "height": 34
        }
      },
      "cell_type": "code",
      "source": [
        "metrics.fowlkes_mallows_score(Y, y_pred)"
      ],
      "execution_count": 0,
      "outputs": [
        {
          "output_type": "execute_result",
          "data": {
            "text/plain": [
              "0.7068594794590015"
            ]
          },
          "metadata": {
            "tags": []
          },
          "execution_count": 66
        }
      ]
    },
    {
      "metadata": {
        "id": "_g2N8rKYXP0z",
        "colab_type": "code",
        "colab": {}
      },
      "cell_type": "code",
      "source": [
        "y_pred = kmeans.fit_predict(df[['gluc', 'ap_lo', 'ap_hi']])\n",
        "\n",
        "df['y_pred'] = y_pred"
      ],
      "execution_count": 0,
      "outputs": []
    },
    {
      "metadata": {
        "id": "8z2AhK2rSlB6",
        "colab_type": "code",
        "outputId": "16a7f9cf-ca61-4ede-9a7d-f121abe15373",
        "colab": {
          "base_uri": "https://localhost:8080/",
          "height": 34
        }
      },
      "cell_type": "code",
      "source": [
        "metrics.fowlkes_mallows_score(Y, y_pred)"
      ],
      "execution_count": 0,
      "outputs": [
        {
          "output_type": "execute_result",
          "data": {
            "text/plain": [
              "0.6118979831014529"
            ]
          },
          "metadata": {
            "tags": []
          },
          "execution_count": 68
        }
      ]
    },
    {
      "metadata": {
        "id": "5ct01g58SdXZ",
        "colab_type": "code",
        "colab": {}
      },
      "cell_type": "code",
      "source": [
        "sick = df[df['y_pred'] == 1]\n",
        "no_sick = df[df['y_pred'] == 0]"
      ],
      "execution_count": 0,
      "outputs": []
    },
    {
      "metadata": {
        "id": "gySFt-iwXP1C",
        "colab_type": "code",
        "outputId": "cae8226f-2c6e-4e2f-d88c-dc39a4fca83e",
        "colab": {
          "base_uri": "https://localhost:8080/",
          "height": 374
        }
      },
      "cell_type": "code",
      "source": [
        "fig = plt.figure(figsize=(6,6))\n",
        "ax = fig.add_subplot(111, projection='3d')\n",
        "ax.scatter(sick['gluc'], sick['ap_lo'], sick['ap_hi'], label='sick', c='r', cmap=plt.cm.viridis)\n",
        "ax.scatter(no_sick['gluc'], no_sick['ap_lo'], no_sick['ap_hi'], label='no sick', c='b', cmap=plt.cm.viridis)\n",
        "ax.set_xlabel('gluc')\n",
        "ax.set_ylabel('ap_lo')\n",
        "ax.set_zlabel('ap_hi')\n",
        "plt.legend()"
      ],
      "execution_count": 0,
      "outputs": [
        {
          "output_type": "execute_result",
          "data": {
            "text/plain": [
              "<matplotlib.legend.Legend at 0x7f6144164e48>"
            ]
          },
          "metadata": {
            "tags": []
          },
          "execution_count": 71
        },
        {
          "output_type": "display_data",
          "data": {
            "image/png": "[encoded data removed]",
            "text/plain": [
              "<Figure size 432x432 with 1 Axes>"
            ]
          },
          "metadata": {
            "tags": []
          }
        }
      ]
    },
    {
      "metadata": {
        "id": "kZ2nyiQNPaJv",
        "colab_type": "code",
        "colab": {}
      },
      "cell_type": "code",
      "source": [
        "y_pred = kmeans.fit_predict(df[['cholesterol', 'ap_lo', 'ap_hi', 'gluc']])"
      ],
      "execution_count": 0,
      "outputs": []
    },
    {
      "metadata": {
        "id": "odHDTHnzRcYr",
        "colab_type": "code",
        "outputId": "e498d18f-8c08-491b-a38a-ece72ef40a70",
        "colab": {
          "base_uri": "https://localhost:8080/",
          "height": 34
        }
      },
      "cell_type": "code",
      "source": [
        "metrics.fowlkes_mallows_score(Y, y_pred)"
      ],
      "execution_count": 0,
      "outputs": [
        {
          "output_type": "execute_result",
          "data": {
            "text/plain": [
              "0.6031253957295085"
            ]
          },
          "metadata": {
            "tags": []
          },
          "execution_count": 20
        }
      ]
    },
    {
      "metadata": {
        "id": "74NAbbqJUdB8",
        "colab_type": "text"
      },
      "cell_type": "markdown",
      "source": [
        "# Hierarchical Clustering"
      ]
    },
    {
      "metadata": {
        "id": "UcPLH317YF7C",
        "colab_type": "code",
        "outputId": "6c250143-f5bb-476f-b405-cff09bc529f1",
        "colab": {
          "base_uri": "https://localhost:8080/",
          "height": 34
        }
      },
      "cell_type": "code",
      "source": [
        "X = df[['ap_hi', 'ap_lo']][::2]\n",
        "\n",
        "hiec_clust = AgglomerativeClustering(n_clusters=2, linkage='single')\n",
        "y_pred = hiec_clust.fit_predict(X.values)\n",
        "\n",
        "X['y_pred'] = y_pred\n",
        "\n",
        "metrics.fowlkes_mallows_score(Y[::2], y_pred)"
      ],
      "execution_count": 0,
      "outputs": [
        {
          "output_type": "execute_result",
          "data": {
            "text/plain": [
              "0.7070566833496869"
            ]
          },
          "metadata": {
            "tags": []
          },
          "execution_count": 72
        }
      ]
    },
    {
      "metadata": {
        "id": "0xDqjAMuTdTY",
        "colab_type": "code",
        "colab": {}
      },
      "cell_type": "code",
      "source": [
        "sick = X[X['y_pred'] == 1]\n",
        "no_sick = X[X['y_pred'] == 0]"
      ],
      "execution_count": 0,
      "outputs": []
    },
    {
      "metadata": {
        "id": "SQnHWeTrc6yx",
        "colab_type": "code",
        "outputId": "7c6782c4-b874-40c8-ecfc-e0252472f3c6",
        "colab": {
          "base_uri": "https://localhost:8080/",
          "height": 364
        }
      },
      "cell_type": "code",
      "source": [
        "plt.scatter(sick['ap_hi'], sick['ap_lo'], label='sick', c='r', cmap=plt.cm.viridis)\n",
        "plt.scatter(no_sick['ap_hi'], no_sick['ap_lo'], label='no sick', c='b', cmap=plt.cm.viridis)\n",
        "plt.legend()"
      ],
      "execution_count": 0,
      "outputs": [
        {
          "output_type": "execute_result",
          "data": {
            "text/plain": [
              "<matplotlib.legend.Legend at 0x7f6143e58b70>"
            ]
          },
          "metadata": {
            "tags": []
          },
          "execution_count": 74
        },
        {
          "output_type": "display_data",
          "data": {
            "image/png": "[encoded data removed]",
            "text/plain": [
              "<Figure size 576x396 with 1 Axes>"
            ]
          },
          "metadata": {
            "tags": []
          }
        }
      ]
    },
    {
      "metadata": {
        "id": "oGJ6slireA2T",
        "colab_type": "code",
        "outputId": "5b3fdb46-a257-49dc-8120-b63303dde6d7",
        "colab": {
          "base_uri": "https://localhost:8080/",
          "height": 34
        }
      },
      "cell_type": "code",
      "source": [
        "X = df[['gluc', 'ap_lo', 'ap_hi']][::2]\n",
        "\n",
        "hiec_clust = AgglomerativeClustering(n_clusters=2, linkage='single')\n",
        "y_pred = hiec_clust.fit_predict(X.values)\n",
        "\n",
        "X['y_pred'] = y_pred\n",
        "\n",
        "metrics.fowlkes_mallows_score(Y[::2], y_pred)"
      ],
      "execution_count": 0,
      "outputs": [
        {
          "output_type": "execute_result",
          "data": {
            "text/plain": [
              "0.7070566833496869"
            ]
          },
          "metadata": {
            "tags": []
          },
          "execution_count": 75
        }
      ]
    },
    {
      "metadata": {
        "id": "nSbZimCGT-Sm",
        "colab_type": "code",
        "colab": {}
      },
      "cell_type": "code",
      "source": [
        "sick = X[X['y_pred'] == 1]\n",
        "no_sick = X[X['y_pred'] == 0]"
      ],
      "execution_count": 0,
      "outputs": []
    },
    {
      "metadata": {
        "id": "FV8cjJ9zfkhC",
        "colab_type": "code",
        "outputId": "640807e3-90f4-4e33-f3c3-473e6709321a",
        "colab": {
          "base_uri": "https://localhost:8080/",
          "height": 374
        }
      },
      "cell_type": "code",
      "source": [
        "fig = plt.figure(figsize=(6,6))\n",
        "ax = fig.add_subplot(111, projection='3d')\n",
        "ax.scatter(sick['gluc'], sick['ap_lo'], sick['ap_hi'], label='sick', c='r', cmap=plt.cm.viridis)\n",
        "ax.scatter(no_sick['gluc'], no_sick['ap_lo'], no_sick['ap_hi'], label='no sick', c='b', cmap=plt.cm.viridis)\n",
        "ax.set_xlabel('gluc')\n",
        "ax.set_ylabel('ap_lo')\n",
        "ax.set_zlabel('ap_hi')\n",
        "plt.legend()"
      ],
      "execution_count": 0,
      "outputs": [
        {
          "output_type": "execute_result",
          "data": {
            "text/plain": [
              "<matplotlib.legend.Legend at 0x7f6143b24a58>"
            ]
          },
          "metadata": {
            "tags": []
          },
          "execution_count": 77
        },
        {
          "output_type": "display_data",
          "data": {
            "image/png": "[encoded data removed]",
            "text/plain": [
              "<Figure size 432x432 with 1 Axes>"
            ]
          },
          "metadata": {
            "tags": []
          }
        }
      ]
    },
    {
      "metadata": {
        "id": "9A-pzMAhEc6v",
        "colab_type": "code",
        "outputId": "46d58db6-dd55-496a-b8dc-b875ed176361",
        "colab": {
          "base_uri": "https://localhost:8080/",
          "height": 34
        }
      },
      "cell_type": "code",
      "source": [
        "X = df[['ap_hi', 'ap_lo', 'gluc', 'cholesterol']][::2]\n",
        "\n",
        "hiec_clust = AgglomerativeClustering(n_clusters=2, linkage='single')\n",
        "y_pred = hiec_clust.fit_predict(X)\n",
        "\n",
        "metrics.fowlkes_mallows_score(Y[::2], y_pred)"
      ],
      "execution_count": 0,
      "outputs": [
        {
          "output_type": "execute_result",
          "data": {
            "text/plain": [
              "0.7070566833496869"
            ]
          },
          "metadata": {
            "tags": []
          },
          "execution_count": 17
        }
      ]
    },
    {
      "metadata": {
        "id": "qvUhQe0yGG0_",
        "colab_type": "code",
        "outputId": "1a6e0766-0f3a-45ca-da75-eda50eec5f29",
        "colab": {
          "base_uri": "https://localhost:8080/",
          "height": 34
        }
      },
      "cell_type": "code",
      "source": [
        "hiec_clust = AgglomerativeClustering(n_clusters=2, affinity='manhattan', linkage='single')\n",
        "y_pred = hiec_clust.fit_predict(X)\n",
        "\n",
        "metrics.fowlkes_mallows_score(Y[::2], y_pred)"
      ],
      "execution_count": 0,
      "outputs": [
        {
          "output_type": "execute_result",
          "data": {
            "text/plain": [
              "0.7070566833496869"
            ]
          },
          "metadata": {
            "tags": []
          },
          "execution_count": 18
        }
      ]
    },
    {
      "metadata": {
        "id": "QjSla-BbGUub",
        "colab_type": "code",
        "outputId": "b675db47-8352-40ba-eaf5-28225747a2b9",
        "colab": {
          "base_uri": "https://localhost:8080/",
          "height": 34
        }
      },
      "cell_type": "code",
      "source": [
        "hiec_clust = AgglomerativeClustering(n_clusters=2, affinity='cosine', linkage='complete')\n",
        "y_pred = hiec_clust.fit_predict(X)\n",
        "\n",
        "metrics.fowlkes_mallows_score(Y[::2], y_pred)"
      ],
      "execution_count": 0,
      "outputs": [
        {
          "output_type": "execute_result",
          "data": {
            "text/plain": [
              "0.7070566833496869"
            ]
          },
          "metadata": {
            "tags": []
          },
          "execution_count": 21
        }
      ]
    },
    {
      "metadata": {
        "id": "ItcQznwBXP1N",
        "colab_type": "text"
      },
      "cell_type": "markdown",
      "source": [
        "# SOM(Self Organized Map)"
      ]
    },
    {
      "metadata": {
        "id": "awT4gT0iXP1V",
        "colab_type": "code",
        "colab": {}
      },
      "cell_type": "code",
      "source": [
        "data = df[['ap_hi', 'ap_lo', 'gluc', 'cholesterol']].values"
      ],
      "execution_count": 0,
      "outputs": []
    },
    {
      "metadata": {
        "id": "TilOV8-8dr9j",
        "colab_type": "code",
        "colab": {}
      },
      "cell_type": "code",
      "source": [
        "map_dim = 15\n",
        "som = MiniSom(map_dim, map_dim, 4, sigma=0.3, learning_rate=0.4)\n",
        "som.train_random(data, int(1e3))"
      ],
      "execution_count": 0,
      "outputs": []
    },
    {
      "metadata": {
        "id": "bRxmz7HZ1m0v",
        "colab_type": "code",
        "outputId": "3a4b5ecd-68dc-4e43-d31e-86d9dc44a90d",
        "colab": {
          "base_uri": "https://localhost:8080/",
          "height": 411
        }
      },
      "cell_type": "code",
      "source": [
        "labels_map = som.labels_map(data, Y)\n",
        "label_names = np.unique(Y)\n",
        "\n",
        "plt.figure(figsize=(7, 7))\n",
        "the_grid = GridSpec(map_dim, map_dim)\n",
        "\n",
        "for position in labels_map.keys():\n",
        "    label_fracs = [labels_map[position][l] for l in label_names]\n",
        "    plt.subplot(the_grid[6-position[1], position[0]], aspect=1)\n",
        "    patches, texts = plt.pie(label_fracs)\n",
        "\n",
        "plt.legend(patches, label_names, bbox_to_anchor=(0, 3), ncol=3)\n",
        "plt.show()"
      ],
      "execution_count": 0,
      "outputs": [
        {
          "output_type": "display_data",
          "data": {
            "image/png": "[encoded data removed]",
            "text/plain": [
              "<Figure size 504x504 with 12 Axes>"
            ]
          },
          "metadata": {
            "tags": []
          }
        }
      ]
    },
    {
      "metadata": {
        "id": "YrD41_nGH9pf",
        "colab_type": "code",
        "colab": {}
      },
      "cell_type": "code",
      "source": [
        "qt = som.quantization_error(data)"
      ],
      "execution_count": 0,
      "outputs": []
    },
    {
      "metadata": {
        "id": "khiV2k_CIWop",
        "colab_type": "code",
        "outputId": "29e067fb-0266-47bb-c49c-5d399d69f681",
        "colab": {
          "base_uri": "https://localhost:8080/",
          "height": 34
        }
      },
      "cell_type": "code",
      "source": [
        "qt"
      ],
      "execution_count": 0,
      "outputs": [
        {
          "output_type": "execute_result",
          "data": {
            "text/plain": [
              "0.4354005821890988"
            ]
          },
          "metadata": {
            "tags": []
          },
          "execution_count": 86
        }
      ]
    },
    {
      "metadata": {
        "id": "e1tUSXqlsrKp",
        "colab_type": "code",
        "colab": {}
      },
      "cell_type": "code",
      "source": [
        "weigths = som.distance_map()"
      ],
      "execution_count": 0,
      "outputs": []
    },
    {
      "metadata": {
        "id": "T4GISCxfwmnJ",
        "colab_type": "code",
        "outputId": "ed763785-0a14-41d2-a13b-c095ff2a372a",
        "colab": {
          "base_uri": "https://localhost:8080/",
          "height": 347
        }
      },
      "cell_type": "code",
      "source": [
        "def _(x, ind):\n",
        "  markers = ['o', 's']\n",
        "  colors = ['r', 'g']\n",
        " \n",
        "  win = som.winner(x)\n",
        "  plt.plot(win[0], win[1],\n",
        "           markers[Y[ind]],\n",
        "           markeredgecolor = colors[Y[ind]],\n",
        "           markersize=10,\n",
        "           markerfacecolor='None',\n",
        "           markeredgewidth=2)\n",
        "\n",
        "data_test = data[: 1000]\n",
        "plt.imshow(som.distance_map().T, cmap=plt.cm.gray)\n",
        "[*map(_, data_test, range(len(data_test)))]\n",
        "plt.show()"
      ],
      "execution_count": 0,
      "outputs": [
        {
          "output_type": "display_data",
          "data": {
            "image/png": "[encoded data removed]",
            "text/plain": [
              "<Figure size 576x396 with 1 Axes>"
            ]
          },
          "metadata": {
            "tags": []
          }
        }
      ]
    }
  ]
}